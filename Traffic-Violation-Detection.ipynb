{
 "cells": [
  {
   "cell_type": "markdown",
   "metadata": {},
   "source": [
    "## <h1 align=\"center\"> DS510: AI/ML - Lab</h1>\n",
    "<h1 align=\"center\">⛳ Project - Phase 2</h1>\n",
    "<h1 align=\"center\"> Team - KERAS</h1>\n",
    "\n",
    "---"
   ]
  },
  {
   "cell_type": "markdown",
   "metadata": {},
   "source": [
    "# Traffic-Violation-Detection"
   ]
  },
  {
   "cell_type": "markdown",
   "metadata": {},
   "source": [
    "## Installing Required Libraries\n",
    "The following commands install the necessary libraries for the project:\n",
    "- `pytesseract`: For Optical Character Recognition (OCR) to extract text from images.\n",
    "- `easyocr`: Another library for OCR that supports multiple languages."
   ]
  },
  {
   "cell_type": "code",
   "execution_count": 1,
   "metadata": {},
   "outputs": [
    {
     "name": "stdout",
     "output_type": "stream",
     "text": [
      "Requirement already satisfied: pytesseract in /Users/shivam/anaconda3/lib/python3.11/site-packages (0.3.13)\n",
      "Requirement already satisfied: packaging>=21.3 in /Users/shivam/anaconda3/lib/python3.11/site-packages (from pytesseract) (23.1)\n",
      "Requirement already satisfied: Pillow>=8.0.0 in /Users/shivam/anaconda3/lib/python3.11/site-packages (from pytesseract) (10.0.1)\n"
     ]
    }
   ],
   "source": [
    "!pip install pytesseract"
   ]
  },
  {
   "cell_type": "code",
   "execution_count": 2,
   "metadata": {},
   "outputs": [
    {
     "name": "stdout",
     "output_type": "stream",
     "text": [
      "Requirement already satisfied: easyocr in /Users/shivam/anaconda3/lib/python3.11/site-packages (1.7.2)\n",
      "Requirement already satisfied: torch in /Users/shivam/anaconda3/lib/python3.11/site-packages (from easyocr) (2.1.0)\n",
      "Requirement already satisfied: torchvision>=0.5 in /Users/shivam/anaconda3/lib/python3.11/site-packages (from easyocr) (0.16.0)\n",
      "Requirement already satisfied: opencv-python-headless in /Users/shivam/anaconda3/lib/python3.11/site-packages (from easyocr) (4.10.0.84)\n",
      "Requirement already satisfied: scipy in /Users/shivam/anaconda3/lib/python3.11/site-packages (from easyocr) (1.11.3)\n",
      "Requirement already satisfied: numpy in /Users/shivam/anaconda3/lib/python3.11/site-packages (from easyocr) (1.24.3)\n",
      "Requirement already satisfied: Pillow in /Users/shivam/anaconda3/lib/python3.11/site-packages (from easyocr) (10.0.1)\n",
      "Requirement already satisfied: scikit-image in /Users/shivam/anaconda3/lib/python3.11/site-packages (from easyocr) (0.20.0)\n",
      "Requirement already satisfied: python-bidi in /Users/shivam/anaconda3/lib/python3.11/site-packages (from easyocr) (0.6.3)\n",
      "Requirement already satisfied: PyYAML in /Users/shivam/anaconda3/lib/python3.11/site-packages (from easyocr) (6.0.1)\n",
      "Requirement already satisfied: Shapely in /Users/shivam/anaconda3/lib/python3.11/site-packages (from easyocr) (2.0.6)\n",
      "Requirement already satisfied: pyclipper in /Users/shivam/anaconda3/lib/python3.11/site-packages (from easyocr) (1.3.0.post6)\n",
      "Requirement already satisfied: ninja in /Users/shivam/anaconda3/lib/python3.11/site-packages (from easyocr) (1.11.1.1)\n",
      "Requirement already satisfied: requests in /Users/shivam/anaconda3/lib/python3.11/site-packages (from torchvision>=0.5->easyocr) (2.31.0)\n",
      "Requirement already satisfied: filelock in /Users/shivam/anaconda3/lib/python3.11/site-packages (from torch->easyocr) (3.13.1)\n",
      "Requirement already satisfied: typing-extensions in /Users/shivam/anaconda3/lib/python3.11/site-packages (from torch->easyocr) (4.7.1)\n",
      "Requirement already satisfied: sympy in /Users/shivam/anaconda3/lib/python3.11/site-packages (from torch->easyocr) (1.11.1)\n",
      "Requirement already satisfied: networkx in /Users/shivam/anaconda3/lib/python3.11/site-packages (from torch->easyocr) (3.1)\n",
      "Requirement already satisfied: jinja2 in /Users/shivam/anaconda3/lib/python3.11/site-packages (from torch->easyocr) (3.1.2)\n",
      "Requirement already satisfied: fsspec in /Users/shivam/anaconda3/lib/python3.11/site-packages (from torch->easyocr) (2023.4.0)\n",
      "Requirement already satisfied: imageio>=2.4.1 in /Users/shivam/anaconda3/lib/python3.11/site-packages (from scikit-image->easyocr) (2.31.4)\n",
      "Requirement already satisfied: tifffile>=2019.7.26 in /Users/shivam/anaconda3/lib/python3.11/site-packages (from scikit-image->easyocr) (2023.4.12)\n",
      "Requirement already satisfied: PyWavelets>=1.1.1 in /Users/shivam/anaconda3/lib/python3.11/site-packages (from scikit-image->easyocr) (1.4.1)\n",
      "Requirement already satisfied: packaging>=20.0 in /Users/shivam/anaconda3/lib/python3.11/site-packages (from scikit-image->easyocr) (23.1)\n",
      "Requirement already satisfied: lazy_loader>=0.1 in /Users/shivam/anaconda3/lib/python3.11/site-packages (from scikit-image->easyocr) (0.3)\n",
      "Requirement already satisfied: MarkupSafe>=2.0 in /Users/shivam/anaconda3/lib/python3.11/site-packages (from jinja2->torch->easyocr) (2.1.1)\n",
      "Requirement already satisfied: charset-normalizer<4,>=2 in /Users/shivam/anaconda3/lib/python3.11/site-packages (from requests->torchvision>=0.5->easyocr) (2.0.4)\n",
      "Requirement already satisfied: idna<4,>=2.5 in /Users/shivam/anaconda3/lib/python3.11/site-packages (from requests->torchvision>=0.5->easyocr) (3.7)\n",
      "Requirement already satisfied: urllib3<3,>=1.21.1 in /Users/shivam/anaconda3/lib/python3.11/site-packages (from requests->torchvision>=0.5->easyocr) (1.26.18)\n",
      "Requirement already satisfied: certifi>=2017.4.17 in /Users/shivam/anaconda3/lib/python3.11/site-packages (from requests->torchvision>=0.5->easyocr) (2024.6.2)\n",
      "Requirement already satisfied: mpmath>=0.19 in /Users/shivam/anaconda3/lib/python3.11/site-packages (from sympy->torch->easyocr) (1.3.0)\n"
     ]
    }
   ],
   "source": [
    "!pip install easyocr"
   ]
  },
  {
   "cell_type": "code",
   "execution_count": 3,
   "metadata": {},
   "outputs": [
    {
     "name": "stdout",
     "output_type": "stream",
     "text": [
      "Requirement already satisfied: gdown in /Users/shivam/anaconda3/lib/python3.11/site-packages (5.2.0)\n",
      "Requirement already satisfied: beautifulsoup4 in /Users/shivam/anaconda3/lib/python3.11/site-packages (from gdown) (4.12.2)\n",
      "Requirement already satisfied: filelock in /Users/shivam/anaconda3/lib/python3.11/site-packages (from gdown) (3.13.1)\n",
      "Requirement already satisfied: requests[socks] in /Users/shivam/anaconda3/lib/python3.11/site-packages (from gdown) (2.31.0)\n",
      "Requirement already satisfied: tqdm in /Users/shivam/anaconda3/lib/python3.11/site-packages (from gdown) (4.65.0)\n",
      "Requirement already satisfied: soupsieve>1.2 in /Users/shivam/anaconda3/lib/python3.11/site-packages (from beautifulsoup4->gdown) (2.5)\n",
      "Requirement already satisfied: charset-normalizer<4,>=2 in /Users/shivam/anaconda3/lib/python3.11/site-packages (from requests[socks]->gdown) (2.0.4)\n",
      "Requirement already satisfied: idna<4,>=2.5 in /Users/shivam/anaconda3/lib/python3.11/site-packages (from requests[socks]->gdown) (3.7)\n",
      "Requirement already satisfied: urllib3<3,>=1.21.1 in /Users/shivam/anaconda3/lib/python3.11/site-packages (from requests[socks]->gdown) (1.26.18)\n",
      "Requirement already satisfied: certifi>=2017.4.17 in /Users/shivam/anaconda3/lib/python3.11/site-packages (from requests[socks]->gdown) (2024.6.2)\n",
      "Requirement already satisfied: PySocks!=1.5.7,>=1.5.6 in /Users/shivam/anaconda3/lib/python3.11/site-packages (from requests[socks]->gdown) (1.7.1)\n"
     ]
    }
   ],
   "source": [
    "!pip install gdown"
   ]
  },
  {
   "cell_type": "markdown",
   "metadata": {},
   "source": [
    "## Importing Libraries\n",
    "We import several libraries used for image processing, OCR, database connection, and handling warnings."
   ]
  },
  {
   "cell_type": "code",
   "execution_count": 4,
   "metadata": {},
   "outputs": [],
   "source": [
    "import warnings\n",
    "warnings.filterwarnings('ignore')\n",
    "\n",
    "import numpy as np\n",
    "import matplotlib.pyplot as plt\n",
    "import cv2\n",
    "import os\n",
    "import requests\n",
    "import pytesseract\n",
    "import easyocr\n",
    "import re\n",
    "import gdown\n",
    "from PIL import Image\n",
    "from collections import deque\n",
    "from mysql.connector import Error"
   ]
  },
  {
   "cell_type": "markdown",
   "metadata": {},
   "source": [
    "### `detect_traffic_light_color` Function\n",
    "This function takes an image and a rectangle (`rect`) as input and returns the detected traffic light color in the region of interest.\n",
    "\n",
    "1. Extracts the region of interest (ROI) from the image using the rectangle.\n",
    "2. Converts the ROI to the HSV color space to make color detection easier.\n",
    "3. Defines HSV ranges for red and yellow traffic light colors.\n",
    "4. Creates binary masks to identify whether red or yellow is present in the ROI.\n",
    "5. Based on the presence of a color in the masks, it overlays a message on the image to indicate the traffic light's status: \"Stop\" (Red), \"Caution\" (Yellow), or \"Go\" (Green).\n",
    "6. The modified image and the detected traffic light color are returned."
   ]
  },
  {
   "cell_type": "code",
   "execution_count": 5,
   "metadata": {},
   "outputs": [],
   "source": [
    "def detect_traffic_light_color(image, rect):\n",
    "    # Extract rectangle dimensions\n",
    "    x, y, w, h = rect\n",
    "    # Extract region of interest (ROI) from the image based on the rectangle\n",
    "    roi = image[y:y+h, x:x+w]\n",
    "    \n",
    "    # Convert ROI to HSV color space\n",
    "    hsv = cv2.cvtColor(roi, cv2.COLOR_BGR2HSV)\n",
    "\n",
    "    # Define HSV range for red color\n",
    "    red_lower = np.array([0, 120, 70])\n",
    "    red_upper = np.array([10, 255, 255])\n",
    "    \n",
    "    # Define HSV range for yellow color\n",
    "    yellow_lower = np.array([20, 100, 100])\n",
    "    yellow_upper = np.array([30, 255, 255])\n",
    "\n",
    "    # Create binary masks for detecting red and yellow in the ROI\n",
    "    red_mask = cv2.inRange(hsv, red_lower, red_upper)\n",
    "    yellow_mask = cv2.inRange(hsv, yellow_lower, yellow_upper)\n",
    "    \n",
    "    # Font details for overlaying text on the image\n",
    "    font = cv2.FONT_HERSHEY_TRIPLEX\n",
    "    font_scale = 1  \n",
    "    font_thickness = 2  \n",
    "    \n",
    "    # Check which color is present based on the masks\n",
    "    if cv2.countNonZero(red_mask) > 0:\n",
    "        text_color = (0, 0, 255)\n",
    "        message = \"Detected Signal Status: Stop\"\n",
    "        color = 'red'\n",
    "    elif cv2.countNonZero(yellow_mask) > 0:\n",
    "        text_color = (0, 255, 255)\n",
    "        message = \"Detected Signal Status: Caution\"\n",
    "        color = 'yellow'\n",
    "    else:\n",
    "        text_color = (0, 255, 0)\n",
    "        message = \"Detected Signal Status: Go\"\n",
    "        color = 'green'\n",
    "        \n",
    "    # Overlay the detected traffic light status on the main image\n",
    "    cv2.putText(image, message, (15, 70), font, font_scale+0.5, text_color, font_thickness+1, cv2.LINE_AA)\n",
    "    # Add a separator line\n",
    "    cv2.putText(image, 34*'-', (10, 115), font, font_scale, (255,255,255), font_thickness, cv2.LINE_AA)\n",
    "    \n",
    "    # Return the modified image and detected color\n",
    "    return image, color"
   ]
  },
  {
   "cell_type": "markdown",
   "metadata": {},
   "source": [
    "### `LineDetector` Class\n",
    "This class detects white lines on the road in video frames and averages the detected line's position over multiple frames to smooth out any noise.\n",
    "\n",
    "1. **Initialization**: It uses two queues (`deque`) to store the y-coordinates of the start and end points of the detected line for a specified number of frames (`num_frames_avg`).\n",
    "2. **detect_white_line**: This method detects white lines based on a region of interest (ROI) defined by specific slopes and intercepts.\n",
    "    - It applies edge detection and then uses the Hough Line Transform to detect lines.\n",
    "    - It calculates the average y-coordinate values for the start and end points of the line across frames.\n",
    "    - The detected line is drawn on the original frame, and the method returns the modified frame and a mask highlighting the detected line area."
   ]
  },
  {
   "cell_type": "code",
   "execution_count": 6,
   "metadata": {},
   "outputs": [],
   "source": [
    "class LineDetector:\n",
    "    def __init__(self, num_frames_avg=10):\n",
    "        # Initialize two deque queues to hold y-coordinate values across frames\n",
    "        self.y_start_queue = deque(maxlen=num_frames_avg)\n",
    "        self.y_end_queue = deque(maxlen=num_frames_avg)\n",
    "\n",
    "    \n",
    "    def detect_white_line(self, frame, color, \n",
    "                          slope1=0.03, intercept1=920, slope2=0.03, intercept2=770, slope3=-0.8, intercept3=2420):\n",
    "        \n",
    "        # Function to map color names to BGR values\n",
    "        def get_color_code(color_name):\n",
    "            color_codes = {\n",
    "                'red': (0, 0, 255),\n",
    "                'green': (0, 255, 0),\n",
    "                'yellow': (0, 255, 255)\n",
    "                 }\n",
    "            return color_codes.get(color_name.lower())\n",
    "\n",
    "        frame_org = frame.copy()\n",
    "        \n",
    "        # Line equations for defining region of interest (ROI)\n",
    "        def line1(x): return slope1 * x + intercept1\n",
    "        def line2(x): return slope2 * x + intercept2\n",
    "        def line3(x): return slope3 * x + intercept3\n",
    "\n",
    "        height, width, _ = frame.shape\n",
    "        \n",
    "        # Create a mask to spotlight the line's desired area\n",
    "        mask1 = frame.copy()\n",
    "        # Set pixels below the first line to black in mask1\n",
    "        for x in range(width):\n",
    "            y_line = line1(x)\n",
    "            mask1[int(y_line):, x] = 0\n",
    "\n",
    "        mask2 = mask1.copy()\n",
    "        # Set pixels above the second line to black in mask2\n",
    "        for x in range(width):\n",
    "            y_line = line2(x)\n",
    "            mask2[:int(y_line), x] = 0\n",
    "\n",
    "        mask3 = mask2.copy()\n",
    "        # Set pixels to the left of the third line to black in mask3 (final mask)\n",
    "        for y in range(height):\n",
    "            x_line = line3(y)\n",
    "            mask3[y, :int(x_line)] = 0\n",
    "\n",
    "        # Convert the mask to grayscale\n",
    "        gray = cv2.cvtColor(mask3, cv2.COLOR_BGR2GRAY)\n",
    "\n",
    "        # Apply a Gaussian filter to the ROI\n",
    "        blurred_gray = cv2.GaussianBlur(gray, (7, 7), 0)\n",
    "\n",
    "        # Apply CLAHE to equalize the histogram\n",
    "        clahe = cv2.createCLAHE(clipLimit=2.0, tileGridSize=(8,8))\n",
    "        gray_clahe = clahe.apply(blurred_gray)\n",
    "\n",
    "        # Perform edge detection\n",
    "        edges = cv2.Canny(gray, 30, 100)\n",
    "\n",
    "        # Perform a dilation and erosion to close gaps in between object edges\n",
    "        dilated_edges = cv2.dilate(edges, None, iterations=1)\n",
    "        edges = cv2.erode(dilated_edges, None, iterations=1)\n",
    "\n",
    "        # Perform Hough Line Transform\n",
    "        lines = cv2.HoughLinesP(edges, 1, np.pi/180, 100, minLineLength=160, maxLineGap=5)\n",
    "\n",
    "        # Calculate x coordinates for the start and end of the line\n",
    "        x_start = 0\n",
    "        x_end = width - 1\n",
    "\n",
    "        if lines is not None:\n",
    "            for line in lines:\n",
    "                x1, y1, x2, y2 = line[0]\n",
    "\n",
    "                # Calculate line parameters\n",
    "                slope = (y2 - y1) / (x2 - x1 + np.finfo(float).eps)  # Add a small number to avoid division by zero\n",
    "                intercept = y1 - slope * x1\n",
    "\n",
    "                # Calculate corresponding y coordinates\n",
    "                y_start = int(slope * x_start + intercept)\n",
    "                y_end = int(slope * x_end + intercept)\n",
    "\n",
    "                # Add the y_start and y_end values to the queues\n",
    "                self.y_start_queue.append(y_start)\n",
    "                self.y_end_queue.append(y_end)\n",
    "\n",
    "        # Compute the average y_start and y_end values\n",
    "        avg_y_start = int(sum(self.y_start_queue) / len(self.y_start_queue)) if self.y_start_queue else 0\n",
    "        avg_y_end = int(sum(self.y_end_queue) / len(self.y_end_queue)) if self.y_end_queue else 0\n",
    "\n",
    "        \n",
    "        # Draw the line\n",
    "        line_start_ratio=0.32\n",
    "        x_start_adj = x_start + int(line_start_ratio * (x_end - x_start))  # Adjusted x_start\n",
    "        avg_y_start_adj = avg_y_start + int(line_start_ratio * (avg_y_end - avg_y_start))  # Adjusted avg_y_start\n",
    "\n",
    "        # Create a mask with the same size as the frame and all zeros (black)\n",
    "        mask = np.zeros_like(frame)\n",
    "\n",
    "        # Draw the line on the mask\n",
    "        cv2.line(mask, (x_start_adj, avg_y_start_adj), (x_end, avg_y_end), (255, 255, 255), 4)\n",
    "\n",
    "        # Determine which color channel(s) to change based on the color argument\n",
    "        color_code = get_color_code(color)\n",
    "        if color_code == (0, 255, 0):  # Green\n",
    "            channel_indices = [1]\n",
    "        elif color_code == (0, 0, 255):  # Red\n",
    "            channel_indices = [2]\n",
    "        elif color_code == (0, 255, 255):  # Yellow\n",
    "            # Yellow in BGR is a combination of green and red channels.\n",
    "            # Here we modify both green and red channels.\n",
    "            channel_indices = [1, 2]\n",
    "        else:\n",
    "            raise ValueError('Unsupported color')\n",
    "\n",
    "        # Change the specified color channels of the frame where the mask is white\n",
    "        for channel_index in channel_indices:\n",
    "            frame[mask[:,:,channel_index] == 255, channel_index] = 255\n",
    "                \n",
    "                \n",
    "        # Calculate slope and intercept for the average green line\n",
    "        slope_avg = (avg_y_end - avg_y_start) / (x_end - x_start + np.finfo(float).eps)\n",
    "        intercept_avg = avg_y_start - slope_avg * x_start\n",
    "\n",
    "        # Create a mask with the pixels above the green line set to black\n",
    "        mask_line = np.copy(frame_org)\n",
    "        for x in range(width):\n",
    "            y_line = slope_avg * x + intercept_avg - 35\n",
    "            mask_line[:int(y_line), x] = 0  # set pixels above the line to black\n",
    "\n",
    "        return frame, mask_line"
   ]
  },
  {
   "cell_type": "markdown",
   "metadata": {},
   "source": [
    "### `extract_license_plate` function\n",
    "\n",
    "This function processes a given video frame to detect and extract license plates. It uses a combination of image preprocessing, histogram equalization, and Haar Cascade detection. The function returns the original frame with detected license plates highlighted and a list of cropped license plate images.\n",
    "\n",
    "\n",
    "1. **Convert to Grayscale:**\n",
    "   - `gray = cv2.cvtColor(mask_line, cv2.COLOR_BGR2GRAY)`\n",
    "   - License plate detection using Haar Cascades is typically performed on grayscale images, so the input frame is converted to grayscale to reduce computational complexity.\n",
    "\n",
    "2. **Histogram Equalization with CLAHE:**\n",
    "   - `clahe = cv2.createCLAHE(clipLimit=2.0, tileGridSize=(8,8))`\n",
    "   - CLAHE (Contrast Limited Adaptive Histogram Equalization) is applied to enhance contrast in localized areas, which helps in better detection of the license plate by making the plate stand out from the background.\n",
    "\n",
    "3. **Erosion for Noise Reduction:**\n",
    "   - `gray = cv2.erode(gray, kernel, iterations=1)`\n",
    "   - A small 2x2 kernel is used for erosion, removing small noise that might interfere with license plate detection.\n",
    "\n",
    "4. **Bounding Box Calculation:**\n",
    "   - `x, y, w, h = cv2.boundingRect(non_black_points)`\n",
    "   - The function finds non-black pixels (the area of interest) and calculates the bounding rectangle that encloses them, focusing on the region where the license plate is expected.\n",
    "\n",
    "5. **Exclude 30% of Width:**\n",
    "   - `w = int(w * 0.7)`\n",
    "   - The function reduces the width of the bounding box by 30% to avoid including unnecessary parts of the image, narrowing the focus to the license plate area.\n",
    "\n",
    "6. **Cropping the Image:**\n",
    "   - `cropped_gray = gray[y:y+h, x:x+w]`\n",
    "   - The image is cropped to the bounding box to focus on the relevant part where the license plate is expected to be.\n",
    "\n",
    "7. **License Plate Detection:**\n",
    "   - `license_plates = license_plate_cascade.detectMultiScale(cropped_gray, ...)`\n",
    "   - The cropped image is fed into a pre-trained Haar Cascade for license plate detection. The function returns a list of rectangles, each representing a detected license plate.\n",
    "\n",
    "8. **Draw Bounding Boxes:**\n",
    "   - `cv2.rectangle(frame, (x_plate + x, y_plate + y), ...)`\n",
    "   - A green rectangle is drawn around each detected license plate on the original frame to visually highlight the location of the license plate.\n",
    "\n",
    "9. **Extract License Plates:**\n",
    "   - `license_plate_image = cropped_gray[y_plate:y_plate+h_plate, x_plate:x_plate+w_plate]`\n",
    "   - The detected license plates are cropped from the image and stored in the `license_plate_images` list.\n",
    "\n",
    "10. **Return Values:**\n",
    "    - The function returns two values:\n",
    "      1. `frame`: The original frame with rectangles drawn around detected license plates.\n",
    "      2. `license_plate_images`: A list of cropped images of detected license plates.\n"
   ]
  },
  {
   "cell_type": "code",
   "execution_count": 7,
   "metadata": {},
   "outputs": [],
   "source": [
    "def extract_license_plate(frame, mask_line):    \n",
    "    # Convert the image to grayscale (Haar cascades are typically trained on grayscale images)\n",
    "    gray = cv2.cvtColor(mask_line, cv2.COLOR_BGR2GRAY)\n",
    "    \n",
    "    # Apply CLAHE to equalize the histogram\n",
    "    clahe = cv2.createCLAHE(clipLimit=2.0, tileGridSize=(8,8))\n",
    "    gray = clahe.apply(gray)\n",
    "    \n",
    "    # Erode the image using a 2x2 kernel to remove noise\n",
    "    kernel = np.ones((2, 2), np.uint8)\n",
    "    gray = cv2.erode(gray, kernel, iterations=1)\n",
    "\n",
    "    # Find the bounding box of non-black pixels\n",
    "    non_black_points = cv2.findNonZero(gray)\n",
    "    x, y, w, h = cv2.boundingRect(non_black_points)\n",
    "\n",
    "    # Calculate the new width of the bounding box, excluding 30% on the right side\n",
    "    w = int(w * 0.7)\n",
    "\n",
    "    # Crop the image to the bounding box\n",
    "    cropped_gray = gray[y:y+h, x:x+w]\n",
    "\n",
    "    # Detect license plates in the image (this returns a list of rectangles)\n",
    "    license_plates = license_plate_cascade.detectMultiScale(cropped_gray, scaleFactor=1.07, minNeighbors=15, minSize=(20, 20))\n",
    "\n",
    "    # List to hold cropped license plate images\n",
    "    license_plate_images = []\n",
    "\n",
    "    # Loop over the license plates\n",
    "    for (x_plate, y_plate, w_plate, h_plate) in license_plates:\n",
    "        # Draw a rectangle around the license plate in the original frame (here you need the original coordinates)\n",
    "        cv2.rectangle(frame, (x_plate + x, y_plate + y), (x_plate + x + w_plate, y_plate + y + h_plate), (0, 255, 0), 3)\n",
    "    \n",
    "        # Crop the license plate and append it to the list (here x_plate and y_plate are relative to cropped_gray)\n",
    "        license_plate_image = cropped_gray[y_plate:y_plate+h_plate, x_plate:x_plate+w_plate]\n",
    "        license_plate_images.append(license_plate_image)\n",
    "\n",
    "    return frame, license_plate_images"
   ]
  },
  {
   "cell_type": "markdown",
   "metadata": {},
   "source": [
    "### `apply_ocr_to_image` function\n",
    "\n",
    "This function takes an image of a license plate and applies Optical Character Recognition (OCR) using Tesseract to extract the text (license plate number). It preprocesses the image before performing OCR to improve accuracy.\n",
    "\n",
    "\n",
    "1. **Thresholding the Image:**\n",
    "   - `_, img = cv2.threshold(license_plate_image, 120, 255, cv2.THRESH_BINARY)`\n",
    "   - This step converts the grayscale license plate image into a binary (black-and-white) image. Thresholding is a common preprocessing step in OCR to enhance the contrast between the text and the background. Pixels with values above 120 are set to white (255), and those below are set to black (0). This simplifies the text extraction process for Tesseract.\n",
    "\n",
    "2. **Converting OpenCV Image to PIL Format:**\n",
    "   - `pil_img = Image.fromarray(img)`\n",
    "   - Tesseract's `pytesseract` library works with PIL (Python Imaging Library) images, whereas OpenCV works with NumPy arrays. This conversion from the OpenCV `license_plate_image` (NumPy array) to a PIL Image object is necessary to interface with `pytesseract`.\n",
    "\n",
    "3. **Applying OCR using Pytesseract:**\n",
    "   - `full_text = pytesseract.image_to_string(pil_img, config='--psm 6')`\n",
    "   - The `pytesseract.image_to_string` function is used to extract text from the image. \n",
    "   - The parameter `config='--psm 6'` specifies the Page Segmentation Mode (PSM), which tells Tesseract how to segment the image. Mode 6 assumes a block of text where each line may be a single text entity, making it suitable for structured text like license plates.\n",
    "\n",
    "4. **Cleaning the Extracted Text:**\n",
    "   - `return full_text.strip()`\n",
    "   - The extracted text may contain leading or trailing white spaces. The `strip()` method removes any extra white spaces at the beginning and end, returning the cleaned license plate number."
   ]
  },
  {
   "cell_type": "code",
   "execution_count": 8,
   "metadata": {},
   "outputs": [],
   "source": [
    "def apply_ocr_to_image(license_plate_image):    \n",
    "    # Threshold the image\n",
    "    _, img = cv2.threshold(license_plate_image, 120, 255, cv2.THRESH_BINARY)\n",
    "\n",
    "    # Convert OpenCV image format to PIL Image format for pytesseract\n",
    "    pil_img = Image.fromarray(img)\n",
    "\n",
    "    # Use pytesseract to extract text from the image\n",
    "    full_text = pytesseract.image_to_string(pil_img, config='--psm 6')\n",
    "\n",
    "    return full_text.strip()  # Removing any extra white spaces from the ends"
   ]
  },
  {
   "cell_type": "markdown",
   "metadata": {},
   "source": [
    "# `draw_penalized_text` function\n",
    "- to overlay a list of fined license plates onto a given frame. This is typically used in applications related to traffic enforcement or monitoring.\n"
   ]
  },
  {
   "cell_type": "code",
   "execution_count": 9,
   "metadata": {},
   "outputs": [],
   "source": [
    "def draw_penalized_text(frame):\n",
    "    # Set font, scale, thickness, and color\n",
    "    font = cv2.FONT_HERSHEY_TRIPLEX\n",
    "    font_scale = 1  \n",
    "    font_thickness = 2\n",
    "    color = (255, 255, 255)  # White color\n",
    "    \n",
    "    # Initial position for Y-coordinate\n",
    "    y_pos = 180\n",
    "    \n",
    "    # Put title on the frame\n",
    "    cv2.putText(frame, 'Fined license plates:', (25, y_pos), font, font_scale, color, font_thickness)\n",
    "    \n",
    "    # Update Y-coordinate position\n",
    "    y_pos += 80\n",
    "\n",
    "    # Loop through all fined license plates\n",
    "    for text in penalized_texts:\n",
    "        # Add fined license plate text on the frame\n",
    "        cv2.putText(frame, '->  '+text, (40, y_pos), font, font_scale, color, font_thickness)\n",
    "        \n",
    "        # Update Y-coordinate for next license plate\n",
    "        y_pos += 60"
   ]
  },
  {
   "cell_type": "code",
   "execution_count": 10,
   "metadata": {},
   "outputs": [],
   "source": [
    "import cv2\n",
    "import re\n",
    "import matplotlib.pyplot as plt\n",
    "import gdown\n",
    "import os\n",
    "\n",
    "def main():\n",
    "    # List to store penalized license plates\n",
    "    penalized_texts = []\n",
    "\n",
    "    # URL for the Google Drive file\n",
    "    url = 'https://drive.google.com/uc?id=1_Enu0ZBM4bvB-AfnUwoMppw57TgdBhet'\n",
    "    output = 'traffic_video.mp4'\n",
    "\n",
    "    # Download the video file from Google Drive\n",
    "    gdown.download(url, output, quiet=False)\n",
    "\n",
    "    # Open the video file\n",
    "    vid = cv2.VideoCapture(output)\n",
    "    \n",
    "    # Create detector object\n",
    "    detector = LineDetector()\n",
    "\n",
    "    # Loop through each frame in the video\n",
    "    while True:\n",
    "        # Read frame\n",
    "        ret, frame = vid.read()\n",
    "        \n",
    "        # Break if frame is not returned\n",
    "        if not ret:\n",
    "            break\n",
    "\n",
    "        # Assuming rect is the rectangle where the traffic light is located\n",
    "        rect = (1700, 40, 100, 250) \n",
    "        \n",
    "        # Detect traffic light color\n",
    "        frame, color = detect_traffic_light_color(frame, rect)\n",
    "        \n",
    "        # Detect white line\n",
    "        frame, mask_line = detector.detect_white_line(frame, color)\n",
    "        \n",
    "        # Process the frame if the light is red\n",
    "        if color == 'red':\n",
    "            # Extract license plate\n",
    "            frame, license_plate_images = extract_license_plate(frame, mask_line)\n",
    "            \n",
    "            # Process each detected license plate\n",
    "            for license_plate_image in license_plate_images:\n",
    "                # Apply OCR to the license plate image\n",
    "                text = apply_ocr_to_image(license_plate_image)\n",
    "                \n",
    "                # Add the detected license plate to the list if it matches the pattern and is not already in the list\n",
    "                if text is not None and re.match(\"^[A-Z]{2}\\s[0-9]{3,4}$\", text) and text not in penalized_texts:\n",
    "                    penalized_texts.append(text)\n",
    "                    print(f\"\\nFined license plate: {text}\")\n",
    "\n",
    "                    # Plot the license plate image\n",
    "                    plt.figure()\n",
    "                    plt.imshow(license_plate_image, cmap='gray')\n",
    "                    plt.axis('off')\n",
    "                    plt.show()\n",
    "        \n",
    "        # Draw the penalized text onto the frame if there is any\n",
    "        if penalized_texts:\n",
    "            draw_penalized_text(frame)\n",
    "\n",
    "        # Display the frame \n",
    "        cv2.imshow('frame', frame)\n",
    "\n",
    "        # Break if ESC key is pressed\n",
    "        if cv2.waitKey(1) == 27:\n",
    "            break\n",
    "\n",
    "    # Release the video\n",
    "    vid.release()\n",
    "    \n",
    "    # Close all OpenCV windows\n",
    "    cv2.destroyAllWindows()\n",
    "\n",
    "    # Print all the detected violations\n",
    "    print(\"\\nAll violations:\")\n",
    "    for text in penalized_texts:\n",
    "        print(f\"- {text}\")"
   ]
  },
  {
   "cell_type": "markdown",
   "metadata": {},
   "source": [
    "`haarcascade_russian_plate_number.xml`- This model, tailor-made for detecting license plates, is paramount for identifying license plates in our video frames."
   ]
  },
  {
   "cell_type": "code",
   "execution_count": 11,
   "metadata": {},
   "outputs": [
    {
     "name": "stderr",
     "output_type": "stream",
     "text": [
      "Downloading...\n",
      "From (original): https://drive.google.com/uc?id=1rg06EeyQrOqPylX_vwcfFzPlY_PLYmzD\n",
      "From (redirected): https://drive.google.com/uc?id=1rg06EeyQrOqPylX_vwcfFzPlY_PLYmzD&confirm=t&uuid=21646572-27f6-4494-9921-aed40363a12c\n",
      "To: /Users/shivam/Desktop/aiml/haarcascade_russian_plate_number.xml\n",
      "100%|██████████| 75.5k/75.5k [00:00<00:00, 445kB/s]\n"
     ]
    },
    {
     "name": "stdout",
     "output_type": "stream",
     "text": [
      "Haar Cascade loaded successfully.\n"
     ]
    }
   ],
   "source": [
    "import cv2\n",
    "import gdown\n",
    "\n",
    "# Download the trained Haar Cascade from Google Drive\n",
    "url = \"https://drive.google.com/uc?id=1rg06EeyQrOqPylX_vwcfFzPlY_PLYmzD\"\n",
    "output = 'haarcascade_russian_plate_number.xml'\n",
    "\n",
    "# Download the Haar Cascade XML file\n",
    "gdown.download(url, output, quiet=False)\n",
    "\n",
    "# Load the trained Haar Cascade\n",
    "license_plate_cascade = cv2.CascadeClassifier(output)\n",
    "\n",
    "# Create a list to store unique penalized license plate texts\n",
    "penalized_texts = []\n",
    "\n",
    "# Optional: Print a message to confirm successful loading\n",
    "if license_plate_cascade.empty():\n",
    "    print(\"Error loading Haar Cascade!\")\n",
    "else:\n",
    "    print(\"Haar Cascade loaded successfully.\")\n"
   ]
  },
  {
   "cell_type": "code",
   "execution_count": 12,
   "metadata": {},
   "outputs": [
    {
     "name": "stderr",
     "output_type": "stream",
     "text": [
      "Downloading...\n",
      "From: https://drive.google.com/uc?id=1_Enu0ZBM4bvB-AfnUwoMppw57TgdBhet\n",
      "To: /Users/shivam/Desktop/aiml/traffic_video.mp4\n",
      "100%|██████████| 37.7M/37.7M [00:01<00:00, 20.0MB/s]\n",
      "2024-10-30 09:17:18.941 python[27616:1803136] +[IMKClient subclass]: chose IMKClient_Legacy\n",
      "2024-10-30 09:17:18.941 python[27616:1803136] +[IMKInputSession subclass]: chose IMKInputSession_Legacy\n"
     ]
    },
    {
     "name": "stdout",
     "output_type": "stream",
     "text": [
      "\n",
      "Fined license plate: YB 6433\n"
     ]
    },
    {
     "data": {
      "image/png": "[encoded data removed]",
      "text/plain": [
       "<Figure size 640x480 with 1 Axes>"
      ]
     },
     "metadata": {},
     "output_type": "display_data"
    },
    {
     "name": "stdout",
     "output_type": "stream",
     "text": [
      "\n",
      "Fined license plate: AW 773\n"
     ]
    },
    {
     "data": {
      "image/png": "[encoded data removed]",
      "text/plain": [
       "<Figure size 640x480 with 1 Axes>"
      ]
     },
     "metadata": {},
     "output_type": "display_data"
    },
    {
     "name": "stdout",
     "output_type": "stream",
     "text": [
      "\n",
      "All violations:\n",
      "- YB 6433\n",
      "- AW 773\n"
     ]
    }
   ],
   "source": [
    "if __name__ == \"__main__\":\n",
    "    main()"
   ]
  },
  {
   "cell_type": "markdown",
   "metadata": {},
   "source": [
    "---"
   ]
  }
 ],
 "metadata": {
  "kernelspec": {
   "display_name": "base",
   "language": "python",
   "name": "python3"
  },
  "language_info": {
   "codemirror_mode": {
    "name": "ipython",
    "version": 3
   },
   "file_extension": ".py",
   "mimetype": "text/x-python",
   "name": "python",
   "nbconvert_exporter": "python",
   "pygments_lexer": "ipython3",
   "version": "3.11.7"
  }
 },
 "nbformat": 4,
 "nbformat_minor": 2
}
